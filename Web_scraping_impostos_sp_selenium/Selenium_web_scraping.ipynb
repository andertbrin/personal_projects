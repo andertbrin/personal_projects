{
 "cells": [
  {
   "cell_type": "code",
   "execution_count": 3,
   "id": "9dfea43a-6f29-4deb-80ca-d53c0934dc48",
   "metadata": {},
   "outputs": [],
   "source": [
    "from selenium import webdriver\n",
    "from selenium.webdriver.common.by import By\n",
    "import pandas as pd\n",
    "from datetime import date\n",
    "from datetime import date\n",
    "import time\n",
    "import glob\n",
    "import os"
   ]
  },
  {
   "cell_type": "markdown",
   "id": "dfe183fd-07d6-4462-8e19-2eb439d8a1d2",
   "metadata": {},
   "source": [
    "## Download do arquivo de dados no formato .xlsx para a pasta downloads"
   ]
  },
  {
   "cell_type": "code",
   "execution_count": 6,
   "id": "0c9a89e2-25f9-4f71-95a5-988d513df9ae",
   "metadata": {},
   "outputs": [],
   "source": [
    "current_year = date.today().year\n",
    "\n",
    "def baixar_relatorio_anual(ano):\n",
    "\n",
    "    url = 'https://www.sigeo.fazenda.sp.gov.br/analytics/saw.dll?Dashboard&PortalPath=/shared/SIGEO/_portal/Consulta%20Temporal&Page=Valores%20Arrecadados&NQuser=transparencia&NQPassword=sigeo001'\n",
    "    driver = webdriver.Chrome()\n",
    "    driver.get(url)\n",
    "    time.sleep(5)\n",
    "\n",
    "    drop_year = '/html/body/div[8]/table[2]/tbody/tr[1]/td[2]/div/table[1]/tbody/tr/td[2]/div[1]/div[2]/table[1]/tbody/tr/td[1]/div/table/tbody/tr[5]/td/div/table/tbody/tr/td/div/table/tbody/tr/td/div/div/div/table/tbody/tr/td/div/form/div/table/tbody/tr[2]/td/table/tbody/tr/td/table/tbody/tr[1]/td/table/tbody/tr[2]/td/span/span/div/div[1]/input'\n",
    "    driver.find_element(By.XPATH, drop_year).click()\n",
    "    time.sleep(2)\n",
    "    div = current_year - ano + 1\n",
    "    select_ano = f'/html/body/div[10]/div/div[2]/div[{div}]'\n",
    "    driver.find_element(By.XPATH, select_ano).click()\n",
    "    time.sleep(2)\n",
    "    apply_b = '/html/body/div[8]/table[2]/tbody/tr[1]/td[2]/div/table[1]/tbody/tr/td[2]/div[1]/div[2]/table[1]/tbody/tr/td[1]/div/table/tbody/tr[5]/td/div/table/tbody/tr/td/div/table/tbody/tr/td/div/div/div/table/tbody/tr/td/div/form/div/table/tbody/tr[3]/td/input'\n",
    "    driver.find_element(By.XPATH, apply_b).click()\n",
    "    time.sleep(8)\n",
    "\n",
    "    export_b = '/html/body/div[8]/table[2]/tbody/tr[1]/td[2]/div/table[1]/tbody/tr/td[2]/div[1]/div[2]/table[1]/tbody/tr/td[3]/div/table/tbody/tr[1]/td/div/div[3]/table/tbody/tr/td/div/table/tbody/tr/td/div/table/tbody/tr/td/div/div/div/table/tbody/tr/td/a'\n",
    "    driver.find_element(By.XPATH, export_b).click()\n",
    "    excel_b = '/html/body/div[11]/table/tbody/tr[1]/td[1]/a[2]/table/tbody/tr'\n",
    "          \n",
    "    driver.find_element(By.XPATH, excel_b).click()\n",
    "    time.sleep(5)\n",
    "    driver.close()\n",
    "\n",
    "baixar_relatorio_anual(current_year)"
   ]
  },
  {
   "cell_type": "markdown",
   "id": "068053ef-a52d-4ac0-ab24-3ad4c80c708a",
   "metadata": {},
   "source": [
    "## Obtendo o foi último aquivo .xlsx baixado"
   ]
  },
  {
   "cell_type": "code",
   "execution_count": 4,
   "id": "7d48a502-2586-42a1-9783-93e36b157226",
   "metadata": {},
   "outputs": [],
   "source": [
    "path_downloads = \"C:/Users/ander/Downloads/*.xlsx\"\n",
    "list_of_files = glob.glob(path_downloads)\n",
    "latest_file = max(list_of_files, key=os.path.getctime)"
   ]
  },
  {
   "cell_type": "code",
   "execution_count": 5,
   "id": "df1ae7a8-b626-4091-b94b-8374dc107e0e",
   "metadata": {},
   "outputs": [
    {
     "data": {
      "text/plain": [
       "'C:/Users/ander/Downloads\\\\Valores_Natureza_Receita_2019 (15).xlsx'"
      ]
     },
     "execution_count": 5,
     "metadata": {},
     "output_type": "execute_result"
    }
   ],
   "source": [
    "latest_file"
   ]
  },
  {
   "cell_type": "markdown",
   "id": "5f7443c2-10ad-4b0f-a7fd-0ec471565a7e",
   "metadata": {},
   "source": [
    "## Importando o arquivo para o pandas"
   ]
  },
  {
   "cell_type": "code",
   "execution_count": 6,
   "id": "671ccdd7-6385-47c0-bd7e-eba47b34c9f6",
   "metadata": {},
   "outputs": [],
   "source": [
    "path = latest_file\n",
    "df = pd.read_excel(path)\n",
    "ano = df.loc[6][0]"
   ]
  },
  {
   "cell_type": "code",
   "execution_count": 7,
   "id": "c26263a5-d203-4a13-95c9-17d7a516ad61",
   "metadata": {},
   "outputs": [
    {
     "data": {
      "text/plain": [
       "'2022'"
      ]
     },
     "execution_count": 7,
     "metadata": {},
     "output_type": "execute_result"
    }
   ],
   "source": [
    "ano"
   ]
  },
  {
   "cell_type": "code",
   "execution_count": 8,
   "id": "6a350cfd-bd1b-443f-8109-73b9398846e9",
   "metadata": {},
   "outputs": [],
   "source": [
    "#df[5:10]"
   ]
  },
  {
   "cell_type": "markdown",
   "id": "da3c1814-6265-401c-8c4d-7e6a0723bc14",
   "metadata": {},
   "source": [
    "### Selecionando as colunas desejadas"
   ]
  },
  {
   "cell_type": "code",
   "execution_count": 9,
   "id": "baa847a4-36cb-48de-9055-b358c151a7bc",
   "metadata": {},
   "outputs": [],
   "source": [
    "df_util = df.loc[(df['Unnamed: 1'] == 'JANEIRO') |\n",
    "       (df['Série Histórica da Execução Orçamentária e Financeira - Receita'] == df.loc[6][0]) |\n",
    "       (df['Série Histórica da Execução Orçamentária e Financeira - Receita'] == '111 - IMPOSTOS') | \n",
    "       (df['Série Histórica da Execução Orçamentária e Financeira - Receita'] == '112 - TAXAS') |\n",
    "       (df['Série Histórica da Execução Orçamentária e Financeira - Receita'] == '12 - CONTRIBUICOES')\n",
    "       ]"
   ]
  },
  {
   "cell_type": "code",
   "execution_count": 10,
   "id": "22119d6f-ad46-4a30-bff3-f772bc41dda5",
   "metadata": {},
   "outputs": [
    {
     "data": {
      "text/html": [
       "<div>\n",
       "<style scoped>\n",
       "    .dataframe tbody tr th:only-of-type {\n",
       "        vertical-align: middle;\n",
       "    }\n",
       "\n",
       "    .dataframe tbody tr th {\n",
       "        vertical-align: top;\n",
       "    }\n",
       "\n",
       "    .dataframe thead th {\n",
       "        text-align: right;\n",
       "    }\n",
       "</style>\n",
       "<table border=\"1\" class=\"dataframe\">\n",
       "  <thead>\n",
       "    <tr style=\"text-align: right;\">\n",
       "      <th></th>\n",
       "      <th>Série Histórica da Execução Orçamentária e Financeira - Receita</th>\n",
       "      <th>Unnamed: 1</th>\n",
       "      <th>Unnamed: 2</th>\n",
       "      <th>Unnamed: 3</th>\n",
       "      <th>Unnamed: 4</th>\n",
       "      <th>Unnamed: 5</th>\n",
       "      <th>Unnamed: 6</th>\n",
       "      <th>Unnamed: 7</th>\n",
       "    </tr>\n",
       "  </thead>\n",
       "  <tbody>\n",
       "    <tr>\n",
       "      <th>5</th>\n",
       "      <td>NaN</td>\n",
       "      <td>JANEIRO</td>\n",
       "      <td>FEVEREIRO</td>\n",
       "      <td>MARCO</td>\n",
       "      <td>ABRIL</td>\n",
       "      <td>MAIO</td>\n",
       "      <td>JUNHO</td>\n",
       "      <td>NaN</td>\n",
       "    </tr>\n",
       "    <tr>\n",
       "      <th>6</th>\n",
       "      <td>2022</td>\n",
       "      <td>32709126616.959999</td>\n",
       "      <td>25131373485.029999</td>\n",
       "      <td>29628014544.59</td>\n",
       "      <td>28202923980.439999</td>\n",
       "      <td>27428027422.220001</td>\n",
       "      <td>2132049465.66</td>\n",
       "      <td>145231515514.899994</td>\n",
       "    </tr>\n",
       "    <tr>\n",
       "      <th>9</th>\n",
       "      <td>111 - IMPOSTOS</td>\n",
       "      <td>25683187407.779999</td>\n",
       "      <td>18153436498.580002</td>\n",
       "      <td>21536190775.27</td>\n",
       "      <td>20089267550.529999</td>\n",
       "      <td>20831415711.810001</td>\n",
       "      <td>1072799380.91</td>\n",
       "      <td>107366297324.880005</td>\n",
       "    </tr>\n",
       "    <tr>\n",
       "      <th>117</th>\n",
       "      <td>112 - TAXAS</td>\n",
       "      <td>968080728.68</td>\n",
       "      <td>725409866.57</td>\n",
       "      <td>786239607.68</td>\n",
       "      <td>656241197.35</td>\n",
       "      <td>836022904.9</td>\n",
       "      <td>39292906.03</td>\n",
       "      <td>4011287211.21</td>\n",
       "    </tr>\n",
       "    <tr>\n",
       "      <th>173</th>\n",
       "      <td>12 - CONTRIBUICOES</td>\n",
       "      <td>696479047.33</td>\n",
       "      <td>668746860.82</td>\n",
       "      <td>760081566.29</td>\n",
       "      <td>891431600.76</td>\n",
       "      <td>574649979.24</td>\n",
       "      <td>3618174.66</td>\n",
       "      <td>3595007229.1</td>\n",
       "    </tr>\n",
       "  </tbody>\n",
       "</table>\n",
       "</div>"
      ],
      "text/plain": [
       "    Série Histórica da Execução Orçamentária e Financeira - Receita  \\\n",
       "5                                                  NaN                \n",
       "6                                                 2022                \n",
       "9                                       111 - IMPOSTOS                \n",
       "117                                        112 - TAXAS                \n",
       "173                                 12 - CONTRIBUICOES                \n",
       "\n",
       "             Unnamed: 1          Unnamed: 2      Unnamed: 3  \\\n",
       "5               JANEIRO           FEVEREIRO           MARCO   \n",
       "6    32709126616.959999  25131373485.029999  29628014544.59   \n",
       "9    25683187407.779999  18153436498.580002  21536190775.27   \n",
       "117        968080728.68        725409866.57    786239607.68   \n",
       "173        696479047.33        668746860.82    760081566.29   \n",
       "\n",
       "             Unnamed: 4          Unnamed: 5     Unnamed: 6  \\\n",
       "5                 ABRIL                MAIO          JUNHO   \n",
       "6    28202923980.439999  27428027422.220001  2132049465.66   \n",
       "9    20089267550.529999  20831415711.810001  1072799380.91   \n",
       "117        656241197.35         836022904.9    39292906.03   \n",
       "173        891431600.76        574649979.24     3618174.66   \n",
       "\n",
       "              Unnamed: 7  \n",
       "5                    NaN  \n",
       "6    145231515514.899994  \n",
       "9    107366297324.880005  \n",
       "117        4011287211.21  \n",
       "173         3595007229.1  "
      ]
     },
     "execution_count": 10,
     "metadata": {},
     "output_type": "execute_result"
    }
   ],
   "source": [
    "df_util"
   ]
  },
  {
   "cell_type": "markdown",
   "id": "1cfe4f74-5020-4d44-99a0-57a085556906",
   "metadata": {},
   "source": [
    "### Fazendo ajustes na formatação do dataframe"
   ]
  },
  {
   "cell_type": "code",
   "execution_count": 11,
   "id": "f333b562-5731-4aa0-a470-d3ce342ad0d8",
   "metadata": {},
   "outputs": [],
   "source": [
    "df_util.reset_index(drop=True, inplace=True)\n",
    "df_util = df_util.drop(df_util.columns[-1], axis=1)\n",
    "df_util.columns = df_util.iloc[0]\n",
    "df_util = df_util.drop(df.index[0])\n",
    "df_util = df_util.rename(columns = {df_util.columns[0]: df_util.iloc[0][0]})\n",
    "df_util.loc[1][0] = 'Total'\n",
    "df_util = df_util.add_suffix('/'+ano[0:4])\n",
    "df_util.set_index(df_util.columns[0], inplace=True)"
   ]
  },
  {
   "cell_type": "code",
   "execution_count": 12,
   "id": "446c50ee-b065-4c5c-ae51-f9f7b458ae79",
   "metadata": {},
   "outputs": [
    {
     "data": {
      "text/html": [
       "<div>\n",
       "<style scoped>\n",
       "    .dataframe tbody tr th:only-of-type {\n",
       "        vertical-align: middle;\n",
       "    }\n",
       "\n",
       "    .dataframe tbody tr th {\n",
       "        vertical-align: top;\n",
       "    }\n",
       "\n",
       "    .dataframe thead th {\n",
       "        text-align: right;\n",
       "    }\n",
       "</style>\n",
       "<table border=\"1\" class=\"dataframe\">\n",
       "  <thead>\n",
       "    <tr style=\"text-align: right;\">\n",
       "      <th></th>\n",
       "      <th>JANEIRO/2022</th>\n",
       "      <th>FEVEREIRO/2022</th>\n",
       "      <th>MARCO/2022</th>\n",
       "      <th>ABRIL/2022</th>\n",
       "      <th>MAIO/2022</th>\n",
       "      <th>JUNHO/2022</th>\n",
       "    </tr>\n",
       "    <tr>\n",
       "      <th>2022/2022</th>\n",
       "      <th></th>\n",
       "      <th></th>\n",
       "      <th></th>\n",
       "      <th></th>\n",
       "      <th></th>\n",
       "      <th></th>\n",
       "    </tr>\n",
       "  </thead>\n",
       "  <tbody>\n",
       "    <tr>\n",
       "      <th>Total</th>\n",
       "      <td>32709126616.959999</td>\n",
       "      <td>25131373485.029999</td>\n",
       "      <td>29628014544.59</td>\n",
       "      <td>28202923980.439999</td>\n",
       "      <td>27428027422.220001</td>\n",
       "      <td>2132049465.66</td>\n",
       "    </tr>\n",
       "    <tr>\n",
       "      <th>111 - IMPOSTOS</th>\n",
       "      <td>25683187407.779999</td>\n",
       "      <td>18153436498.580002</td>\n",
       "      <td>21536190775.27</td>\n",
       "      <td>20089267550.529999</td>\n",
       "      <td>20831415711.810001</td>\n",
       "      <td>1072799380.91</td>\n",
       "    </tr>\n",
       "    <tr>\n",
       "      <th>112 - TAXAS</th>\n",
       "      <td>968080728.68</td>\n",
       "      <td>725409866.57</td>\n",
       "      <td>786239607.68</td>\n",
       "      <td>656241197.35</td>\n",
       "      <td>836022904.9</td>\n",
       "      <td>39292906.03</td>\n",
       "    </tr>\n",
       "    <tr>\n",
       "      <th>12 - CONTRIBUICOES</th>\n",
       "      <td>696479047.33</td>\n",
       "      <td>668746860.82</td>\n",
       "      <td>760081566.29</td>\n",
       "      <td>891431600.76</td>\n",
       "      <td>574649979.24</td>\n",
       "      <td>3618174.66</td>\n",
       "    </tr>\n",
       "  </tbody>\n",
       "</table>\n",
       "</div>"
      ],
      "text/plain": [
       "0                         JANEIRO/2022      FEVEREIRO/2022      MARCO/2022  \\\n",
       "2022/2022                                                                    \n",
       "Total               32709126616.959999  25131373485.029999  29628014544.59   \n",
       "111 - IMPOSTOS      25683187407.779999  18153436498.580002  21536190775.27   \n",
       "112 - TAXAS               968080728.68        725409866.57    786239607.68   \n",
       "12 - CONTRIBUICOES        696479047.33        668746860.82    760081566.29   \n",
       "\n",
       "0                           ABRIL/2022           MAIO/2022     JUNHO/2022  \n",
       "2022/2022                                                                  \n",
       "Total               28202923980.439999  27428027422.220001  2132049465.66  \n",
       "111 - IMPOSTOS      20089267550.529999  20831415711.810001  1072799380.91  \n",
       "112 - TAXAS               656241197.35         836022904.9    39292906.03  \n",
       "12 - CONTRIBUICOES        891431600.76        574649979.24     3618174.66  "
      ]
     },
     "execution_count": 12,
     "metadata": {},
     "output_type": "execute_result"
    }
   ],
   "source": [
    "df_util"
   ]
  },
  {
   "cell_type": "code",
   "execution_count": 13,
   "id": "da89561b-5baf-4cf8-950d-d2a86169d38f",
   "metadata": {},
   "outputs": [],
   "source": [
    "df_util.index.name = None"
   ]
  },
  {
   "cell_type": "code",
   "execution_count": 14,
   "id": "233e4799-08b5-4fff-a1b5-d94b3088ea41",
   "metadata": {},
   "outputs": [
    {
     "data": {
      "text/html": [
       "<div>\n",
       "<style scoped>\n",
       "    .dataframe tbody tr th:only-of-type {\n",
       "        vertical-align: middle;\n",
       "    }\n",
       "\n",
       "    .dataframe tbody tr th {\n",
       "        vertical-align: top;\n",
       "    }\n",
       "\n",
       "    .dataframe thead th {\n",
       "        text-align: right;\n",
       "    }\n",
       "</style>\n",
       "<table border=\"1\" class=\"dataframe\">\n",
       "  <thead>\n",
       "    <tr style=\"text-align: right;\">\n",
       "      <th></th>\n",
       "      <th>JANEIRO/2022</th>\n",
       "      <th>FEVEREIRO/2022</th>\n",
       "      <th>MARCO/2022</th>\n",
       "      <th>ABRIL/2022</th>\n",
       "      <th>MAIO/2022</th>\n",
       "      <th>JUNHO/2022</th>\n",
       "    </tr>\n",
       "  </thead>\n",
       "  <tbody>\n",
       "    <tr>\n",
       "      <th>Total</th>\n",
       "      <td>32709126616.959999</td>\n",
       "      <td>25131373485.029999</td>\n",
       "      <td>29628014544.59</td>\n",
       "      <td>28202923980.439999</td>\n",
       "      <td>27428027422.220001</td>\n",
       "      <td>2132049465.66</td>\n",
       "    </tr>\n",
       "    <tr>\n",
       "      <th>111 - IMPOSTOS</th>\n",
       "      <td>25683187407.779999</td>\n",
       "      <td>18153436498.580002</td>\n",
       "      <td>21536190775.27</td>\n",
       "      <td>20089267550.529999</td>\n",
       "      <td>20831415711.810001</td>\n",
       "      <td>1072799380.91</td>\n",
       "    </tr>\n",
       "    <tr>\n",
       "      <th>112 - TAXAS</th>\n",
       "      <td>968080728.68</td>\n",
       "      <td>725409866.57</td>\n",
       "      <td>786239607.68</td>\n",
       "      <td>656241197.35</td>\n",
       "      <td>836022904.9</td>\n",
       "      <td>39292906.03</td>\n",
       "    </tr>\n",
       "    <tr>\n",
       "      <th>12 - CONTRIBUICOES</th>\n",
       "      <td>696479047.33</td>\n",
       "      <td>668746860.82</td>\n",
       "      <td>760081566.29</td>\n",
       "      <td>891431600.76</td>\n",
       "      <td>574649979.24</td>\n",
       "      <td>3618174.66</td>\n",
       "    </tr>\n",
       "  </tbody>\n",
       "</table>\n",
       "</div>"
      ],
      "text/plain": [
       "0                         JANEIRO/2022      FEVEREIRO/2022      MARCO/2022  \\\n",
       "Total               32709126616.959999  25131373485.029999  29628014544.59   \n",
       "111 - IMPOSTOS      25683187407.779999  18153436498.580002  21536190775.27   \n",
       "112 - TAXAS               968080728.68        725409866.57    786239607.68   \n",
       "12 - CONTRIBUICOES        696479047.33        668746860.82    760081566.29   \n",
       "\n",
       "0                           ABRIL/2022           MAIO/2022     JUNHO/2022  \n",
       "Total               28202923980.439999  27428027422.220001  2132049465.66  \n",
       "111 - IMPOSTOS      20089267550.529999  20831415711.810001  1072799380.91  \n",
       "112 - TAXAS               656241197.35         836022904.9    39292906.03  \n",
       "12 - CONTRIBUICOES        891431600.76        574649979.24     3618174.66  "
      ]
     },
     "execution_count": 14,
     "metadata": {},
     "output_type": "execute_result"
    }
   ],
   "source": [
    "df_util"
   ]
  },
  {
   "cell_type": "markdown",
   "id": "e1761bbc-d7f7-483c-bca8-afd9408af145",
   "metadata": {},
   "source": [
    "### Carregando o arquivo com os hitórico"
   ]
  },
  {
   "cell_type": "code",
   "execution_count": 15,
   "id": "13db9945-8f64-4af8-9629-2181d5ed198d",
   "metadata": {},
   "outputs": [],
   "source": [
    "df_old = pd.read_csv('arrecadacao_sp.csv', index_col=0)"
   ]
  },
  {
   "cell_type": "code",
   "execution_count": 16,
   "id": "e9e6b63f-7b19-4622-b46b-a007bd59417e",
   "metadata": {},
   "outputs": [
    {
     "data": {
      "text/html": [
       "<div>\n",
       "<style scoped>\n",
       "    .dataframe tbody tr th:only-of-type {\n",
       "        vertical-align: middle;\n",
       "    }\n",
       "\n",
       "    .dataframe tbody tr th {\n",
       "        vertical-align: top;\n",
       "    }\n",
       "\n",
       "    .dataframe thead th {\n",
       "        text-align: right;\n",
       "    }\n",
       "</style>\n",
       "<table border=\"1\" class=\"dataframe\">\n",
       "  <thead>\n",
       "    <tr style=\"text-align: right;\">\n",
       "      <th></th>\n",
       "      <th>JANEIRO/1996</th>\n",
       "      <th>FEVEREIRO/1996</th>\n",
       "      <th>MARCO/1996</th>\n",
       "      <th>ABRIL/1996</th>\n",
       "      <th>MAIO/1996</th>\n",
       "      <th>JUNHO/1996</th>\n",
       "      <th>JULHO/1996</th>\n",
       "      <th>AGOSTO/1996</th>\n",
       "      <th>SETEMBRO/1996</th>\n",
       "      <th>OUTUBRO/1996</th>\n",
       "      <th>...</th>\n",
       "      <th>SETEMBRO/2021</th>\n",
       "      <th>OUTUBRO/2021</th>\n",
       "      <th>NOVEMBRO/2021</th>\n",
       "      <th>DEZEMBRO/2021</th>\n",
       "      <th>JANEIRO/2022</th>\n",
       "      <th>FEVEREIRO/2022</th>\n",
       "      <th>MARCO/2022</th>\n",
       "      <th>ABRIL/2022</th>\n",
       "      <th>MAIO/2022</th>\n",
       "      <th>JUNHO/2022</th>\n",
       "    </tr>\n",
       "  </thead>\n",
       "  <tbody>\n",
       "    <tr>\n",
       "      <th>Total</th>\n",
       "      <td>2.676783e+09</td>\n",
       "      <td>2.097057e+09</td>\n",
       "      <td>2.620139e+09</td>\n",
       "      <td>2.146277e+09</td>\n",
       "      <td>2.300029e+09</td>\n",
       "      <td>3.149323e+09</td>\n",
       "      <td>2.387304e+09</td>\n",
       "      <td>2.364166e+09</td>\n",
       "      <td>2.525978e+09</td>\n",
       "      <td>5.409976e+09</td>\n",
       "      <td>...</td>\n",
       "      <td>2.448522e+10</td>\n",
       "      <td>2.491945e+10</td>\n",
       "      <td>2.600893e+10</td>\n",
       "      <td>3.689361e+10</td>\n",
       "      <td>3.270913e+10</td>\n",
       "      <td>2.513137e+10</td>\n",
       "      <td>2.962801e+10</td>\n",
       "      <td>2.810895e+10</td>\n",
       "      <td>1.020417e+10</td>\n",
       "      <td>1.527536e+09</td>\n",
       "    </tr>\n",
       "    <tr>\n",
       "      <th>111 - IMPOSTOS</th>\n",
       "      <td>2.398401e+09</td>\n",
       "      <td>1.886430e+09</td>\n",
       "      <td>1.750849e+09</td>\n",
       "      <td>1.800437e+09</td>\n",
       "      <td>1.832943e+09</td>\n",
       "      <td>1.809743e+09</td>\n",
       "      <td>1.867412e+09</td>\n",
       "      <td>1.862525e+09</td>\n",
       "      <td>1.867724e+09</td>\n",
       "      <td>1.893930e+09</td>\n",
       "      <td>...</td>\n",
       "      <td>1.811229e+10</td>\n",
       "      <td>1.826821e+10</td>\n",
       "      <td>1.916221e+10</td>\n",
       "      <td>2.174962e+10</td>\n",
       "      <td>2.568319e+10</td>\n",
       "      <td>1.815344e+10</td>\n",
       "      <td>2.153619e+10</td>\n",
       "      <td>2.008927e+10</td>\n",
       "      <td>6.961760e+09</td>\n",
       "      <td>8.409368e+08</td>\n",
       "    </tr>\n",
       "    <tr>\n",
       "      <th>112 - TAXAS</th>\n",
       "      <td>4.899111e+07</td>\n",
       "      <td>4.847498e+07</td>\n",
       "      <td>5.974057e+07</td>\n",
       "      <td>5.757628e+07</td>\n",
       "      <td>6.542510e+07</td>\n",
       "      <td>5.578818e+07</td>\n",
       "      <td>7.082892e+07</td>\n",
       "      <td>6.740560e+07</td>\n",
       "      <td>6.889266e+07</td>\n",
       "      <td>7.156029e+07</td>\n",
       "      <td>...</td>\n",
       "      <td>7.578547e+08</td>\n",
       "      <td>7.108079e+08</td>\n",
       "      <td>7.794816e+08</td>\n",
       "      <td>7.877269e+08</td>\n",
       "      <td>9.680807e+08</td>\n",
       "      <td>7.254099e+08</td>\n",
       "      <td>7.862396e+08</td>\n",
       "      <td>6.562412e+08</td>\n",
       "      <td>3.387373e+08</td>\n",
       "      <td>3.486471e+07</td>\n",
       "    </tr>\n",
       "    <tr>\n",
       "      <th>12 - CONTRIBUICOES</th>\n",
       "      <td>NaN</td>\n",
       "      <td>NaN</td>\n",
       "      <td>NaN</td>\n",
       "      <td>NaN</td>\n",
       "      <td>NaN</td>\n",
       "      <td>NaN</td>\n",
       "      <td>NaN</td>\n",
       "      <td>1.017842e+08</td>\n",
       "      <td>1.218597e+07</td>\n",
       "      <td>2.070729e+07</td>\n",
       "      <td>...</td>\n",
       "      <td>6.895829e+08</td>\n",
       "      <td>6.948514e+08</td>\n",
       "      <td>7.388965e+08</td>\n",
       "      <td>9.855104e+08</td>\n",
       "      <td>6.964790e+08</td>\n",
       "      <td>6.687469e+08</td>\n",
       "      <td>7.600816e+08</td>\n",
       "      <td>8.458953e+08</td>\n",
       "      <td>1.229401e+07</td>\n",
       "      <td>3.509408e+06</td>\n",
       "    </tr>\n",
       "  </tbody>\n",
       "</table>\n",
       "<p>4 rows × 318 columns</p>\n",
       "</div>"
      ],
      "text/plain": [
       "                    JANEIRO/1996  FEVEREIRO/1996    MARCO/1996    ABRIL/1996  \\\n",
       "Total               2.676783e+09    2.097057e+09  2.620139e+09  2.146277e+09   \n",
       "111 - IMPOSTOS      2.398401e+09    1.886430e+09  1.750849e+09  1.800437e+09   \n",
       "112 - TAXAS         4.899111e+07    4.847498e+07  5.974057e+07  5.757628e+07   \n",
       "12 - CONTRIBUICOES           NaN             NaN           NaN           NaN   \n",
       "\n",
       "                       MAIO/1996    JUNHO/1996    JULHO/1996   AGOSTO/1996  \\\n",
       "Total               2.300029e+09  3.149323e+09  2.387304e+09  2.364166e+09   \n",
       "111 - IMPOSTOS      1.832943e+09  1.809743e+09  1.867412e+09  1.862525e+09   \n",
       "112 - TAXAS         6.542510e+07  5.578818e+07  7.082892e+07  6.740560e+07   \n",
       "12 - CONTRIBUICOES           NaN           NaN           NaN  1.017842e+08   \n",
       "\n",
       "                    SETEMBRO/1996  OUTUBRO/1996  ...  SETEMBRO/2021  \\\n",
       "Total                2.525978e+09  5.409976e+09  ...   2.448522e+10   \n",
       "111 - IMPOSTOS       1.867724e+09  1.893930e+09  ...   1.811229e+10   \n",
       "112 - TAXAS          6.889266e+07  7.156029e+07  ...   7.578547e+08   \n",
       "12 - CONTRIBUICOES   1.218597e+07  2.070729e+07  ...   6.895829e+08   \n",
       "\n",
       "                    OUTUBRO/2021  NOVEMBRO/2021  DEZEMBRO/2021  JANEIRO/2022  \\\n",
       "Total               2.491945e+10   2.600893e+10   3.689361e+10  3.270913e+10   \n",
       "111 - IMPOSTOS      1.826821e+10   1.916221e+10   2.174962e+10  2.568319e+10   \n",
       "112 - TAXAS         7.108079e+08   7.794816e+08   7.877269e+08  9.680807e+08   \n",
       "12 - CONTRIBUICOES  6.948514e+08   7.388965e+08   9.855104e+08  6.964790e+08   \n",
       "\n",
       "                    FEVEREIRO/2022    MARCO/2022    ABRIL/2022     MAIO/2022  \\\n",
       "Total                 2.513137e+10  2.962801e+10  2.810895e+10  1.020417e+10   \n",
       "111 - IMPOSTOS        1.815344e+10  2.153619e+10  2.008927e+10  6.961760e+09   \n",
       "112 - TAXAS           7.254099e+08  7.862396e+08  6.562412e+08  3.387373e+08   \n",
       "12 - CONTRIBUICOES    6.687469e+08  7.600816e+08  8.458953e+08  1.229401e+07   \n",
       "\n",
       "                      JUNHO/2022  \n",
       "Total               1.527536e+09  \n",
       "111 - IMPOSTOS      8.409368e+08  \n",
       "112 - TAXAS         3.486471e+07  \n",
       "12 - CONTRIBUICOES  3.509408e+06  \n",
       "\n",
       "[4 rows x 318 columns]"
      ]
     },
     "execution_count": 16,
     "metadata": {},
     "output_type": "execute_result"
    }
   ],
   "source": [
    "df_old"
   ]
  },
  {
   "cell_type": "code",
   "execution_count": 17,
   "id": "1b6e7ba6-e43e-4bbb-aa25-4828564a2126",
   "metadata": {},
   "outputs": [
    {
     "data": {
      "text/plain": [
       "['FEVEREIRO/2022', 'MARCO/2022', 'ABRIL/2022', 'MAIO/2022', 'JUNHO/2022']"
      ]
     },
     "execution_count": 17,
     "metadata": {},
     "output_type": "execute_result"
    }
   ],
   "source": [
    "list(df_old.columns[-5::])"
   ]
  },
  {
   "cell_type": "code",
   "execution_count": 18,
   "id": "b0914bd2-63e5-4811-b046-1e8be69bd276",
   "metadata": {},
   "outputs": [],
   "source": [
    "#df_merge = pd.concat([df_old, df_util], axis=1)"
   ]
  },
  {
   "cell_type": "markdown",
   "id": "a611fe56-b0db-457f-84cd-c6a371dddb5a",
   "metadata": {},
   "source": [
    "### Alterando os dados no dataframe armazenado para incluir a alteração diária nos valores"
   ]
  },
  {
   "cell_type": "code",
   "execution_count": 19,
   "id": "cf4e45a7-e406-4cdf-a6e7-b4d4d0fe20eb",
   "metadata": {},
   "outputs": [],
   "source": [
    "df_merge = pd.concat([df_old, df_util[df_util.columns.difference(df_old.columns)]], axis=1)"
   ]
  },
  {
   "cell_type": "code",
   "execution_count": 20,
   "id": "d1739cbd-b031-4297-a529-d112bbc97f45",
   "metadata": {},
   "outputs": [
    {
     "data": {
      "text/html": [
       "<div>\n",
       "<style scoped>\n",
       "    .dataframe tbody tr th:only-of-type {\n",
       "        vertical-align: middle;\n",
       "    }\n",
       "\n",
       "    .dataframe tbody tr th {\n",
       "        vertical-align: top;\n",
       "    }\n",
       "\n",
       "    .dataframe thead th {\n",
       "        text-align: right;\n",
       "    }\n",
       "</style>\n",
       "<table border=\"1\" class=\"dataframe\">\n",
       "  <thead>\n",
       "    <tr style=\"text-align: right;\">\n",
       "      <th></th>\n",
       "      <th>JANEIRO/1996</th>\n",
       "      <th>FEVEREIRO/1996</th>\n",
       "      <th>MARCO/1996</th>\n",
       "      <th>ABRIL/1996</th>\n",
       "      <th>MAIO/1996</th>\n",
       "      <th>JUNHO/1996</th>\n",
       "      <th>JULHO/1996</th>\n",
       "      <th>AGOSTO/1996</th>\n",
       "      <th>SETEMBRO/1996</th>\n",
       "      <th>OUTUBRO/1996</th>\n",
       "      <th>...</th>\n",
       "      <th>SETEMBRO/2021</th>\n",
       "      <th>OUTUBRO/2021</th>\n",
       "      <th>NOVEMBRO/2021</th>\n",
       "      <th>DEZEMBRO/2021</th>\n",
       "      <th>JANEIRO/2022</th>\n",
       "      <th>FEVEREIRO/2022</th>\n",
       "      <th>MARCO/2022</th>\n",
       "      <th>ABRIL/2022</th>\n",
       "      <th>MAIO/2022</th>\n",
       "      <th>JUNHO/2022</th>\n",
       "    </tr>\n",
       "  </thead>\n",
       "  <tbody>\n",
       "    <tr>\n",
       "      <th>Total</th>\n",
       "      <td>2.676783e+09</td>\n",
       "      <td>2.097057e+09</td>\n",
       "      <td>2.620139e+09</td>\n",
       "      <td>2.146277e+09</td>\n",
       "      <td>2.300029e+09</td>\n",
       "      <td>3.149323e+09</td>\n",
       "      <td>2.387304e+09</td>\n",
       "      <td>2.364166e+09</td>\n",
       "      <td>2.525978e+09</td>\n",
       "      <td>5.409976e+09</td>\n",
       "      <td>...</td>\n",
       "      <td>2.448522e+10</td>\n",
       "      <td>2.491945e+10</td>\n",
       "      <td>2.600893e+10</td>\n",
       "      <td>3.689361e+10</td>\n",
       "      <td>3.270913e+10</td>\n",
       "      <td>2.513137e+10</td>\n",
       "      <td>2.962801e+10</td>\n",
       "      <td>2.810895e+10</td>\n",
       "      <td>1.020417e+10</td>\n",
       "      <td>1.527536e+09</td>\n",
       "    </tr>\n",
       "    <tr>\n",
       "      <th>111 - IMPOSTOS</th>\n",
       "      <td>2.398401e+09</td>\n",
       "      <td>1.886430e+09</td>\n",
       "      <td>1.750849e+09</td>\n",
       "      <td>1.800437e+09</td>\n",
       "      <td>1.832943e+09</td>\n",
       "      <td>1.809743e+09</td>\n",
       "      <td>1.867412e+09</td>\n",
       "      <td>1.862525e+09</td>\n",
       "      <td>1.867724e+09</td>\n",
       "      <td>1.893930e+09</td>\n",
       "      <td>...</td>\n",
       "      <td>1.811229e+10</td>\n",
       "      <td>1.826821e+10</td>\n",
       "      <td>1.916221e+10</td>\n",
       "      <td>2.174962e+10</td>\n",
       "      <td>2.568319e+10</td>\n",
       "      <td>1.815344e+10</td>\n",
       "      <td>2.153619e+10</td>\n",
       "      <td>2.008927e+10</td>\n",
       "      <td>6.961760e+09</td>\n",
       "      <td>8.409368e+08</td>\n",
       "    </tr>\n",
       "    <tr>\n",
       "      <th>112 - TAXAS</th>\n",
       "      <td>4.899111e+07</td>\n",
       "      <td>4.847498e+07</td>\n",
       "      <td>5.974057e+07</td>\n",
       "      <td>5.757628e+07</td>\n",
       "      <td>6.542510e+07</td>\n",
       "      <td>5.578818e+07</td>\n",
       "      <td>7.082892e+07</td>\n",
       "      <td>6.740560e+07</td>\n",
       "      <td>6.889266e+07</td>\n",
       "      <td>7.156029e+07</td>\n",
       "      <td>...</td>\n",
       "      <td>7.578547e+08</td>\n",
       "      <td>7.108079e+08</td>\n",
       "      <td>7.794816e+08</td>\n",
       "      <td>7.877269e+08</td>\n",
       "      <td>9.680807e+08</td>\n",
       "      <td>7.254099e+08</td>\n",
       "      <td>7.862396e+08</td>\n",
       "      <td>6.562412e+08</td>\n",
       "      <td>3.387373e+08</td>\n",
       "      <td>3.486471e+07</td>\n",
       "    </tr>\n",
       "    <tr>\n",
       "      <th>12 - CONTRIBUICOES</th>\n",
       "      <td>NaN</td>\n",
       "      <td>NaN</td>\n",
       "      <td>NaN</td>\n",
       "      <td>NaN</td>\n",
       "      <td>NaN</td>\n",
       "      <td>NaN</td>\n",
       "      <td>NaN</td>\n",
       "      <td>1.017842e+08</td>\n",
       "      <td>1.218597e+07</td>\n",
       "      <td>2.070729e+07</td>\n",
       "      <td>...</td>\n",
       "      <td>6.895829e+08</td>\n",
       "      <td>6.948514e+08</td>\n",
       "      <td>7.388965e+08</td>\n",
       "      <td>9.855104e+08</td>\n",
       "      <td>6.964790e+08</td>\n",
       "      <td>6.687469e+08</td>\n",
       "      <td>7.600816e+08</td>\n",
       "      <td>8.458953e+08</td>\n",
       "      <td>1.229401e+07</td>\n",
       "      <td>3.509408e+06</td>\n",
       "    </tr>\n",
       "  </tbody>\n",
       "</table>\n",
       "<p>4 rows × 318 columns</p>\n",
       "</div>"
      ],
      "text/plain": [
       "                    JANEIRO/1996  FEVEREIRO/1996    MARCO/1996    ABRIL/1996  \\\n",
       "Total               2.676783e+09    2.097057e+09  2.620139e+09  2.146277e+09   \n",
       "111 - IMPOSTOS      2.398401e+09    1.886430e+09  1.750849e+09  1.800437e+09   \n",
       "112 - TAXAS         4.899111e+07    4.847498e+07  5.974057e+07  5.757628e+07   \n",
       "12 - CONTRIBUICOES           NaN             NaN           NaN           NaN   \n",
       "\n",
       "                       MAIO/1996    JUNHO/1996    JULHO/1996   AGOSTO/1996  \\\n",
       "Total               2.300029e+09  3.149323e+09  2.387304e+09  2.364166e+09   \n",
       "111 - IMPOSTOS      1.832943e+09  1.809743e+09  1.867412e+09  1.862525e+09   \n",
       "112 - TAXAS         6.542510e+07  5.578818e+07  7.082892e+07  6.740560e+07   \n",
       "12 - CONTRIBUICOES           NaN           NaN           NaN  1.017842e+08   \n",
       "\n",
       "                    SETEMBRO/1996  OUTUBRO/1996  ...  SETEMBRO/2021  \\\n",
       "Total                2.525978e+09  5.409976e+09  ...   2.448522e+10   \n",
       "111 - IMPOSTOS       1.867724e+09  1.893930e+09  ...   1.811229e+10   \n",
       "112 - TAXAS          6.889266e+07  7.156029e+07  ...   7.578547e+08   \n",
       "12 - CONTRIBUICOES   1.218597e+07  2.070729e+07  ...   6.895829e+08   \n",
       "\n",
       "                    OUTUBRO/2021  NOVEMBRO/2021  DEZEMBRO/2021  JANEIRO/2022  \\\n",
       "Total               2.491945e+10   2.600893e+10   3.689361e+10  3.270913e+10   \n",
       "111 - IMPOSTOS      1.826821e+10   1.916221e+10   2.174962e+10  2.568319e+10   \n",
       "112 - TAXAS         7.108079e+08   7.794816e+08   7.877269e+08  9.680807e+08   \n",
       "12 - CONTRIBUICOES  6.948514e+08   7.388965e+08   9.855104e+08  6.964790e+08   \n",
       "\n",
       "                    FEVEREIRO/2022    MARCO/2022    ABRIL/2022     MAIO/2022  \\\n",
       "Total                 2.513137e+10  2.962801e+10  2.810895e+10  1.020417e+10   \n",
       "111 - IMPOSTOS        1.815344e+10  2.153619e+10  2.008927e+10  6.961760e+09   \n",
       "112 - TAXAS           7.254099e+08  7.862396e+08  6.562412e+08  3.387373e+08   \n",
       "12 - CONTRIBUICOES    6.687469e+08  7.600816e+08  8.458953e+08  1.229401e+07   \n",
       "\n",
       "                      JUNHO/2022  \n",
       "Total               1.527536e+09  \n",
       "111 - IMPOSTOS      8.409368e+08  \n",
       "112 - TAXAS         3.486471e+07  \n",
       "12 - CONTRIBUICOES  3.509408e+06  \n",
       "\n",
       "[4 rows x 318 columns]"
      ]
     },
     "execution_count": 20,
     "metadata": {},
     "output_type": "execute_result"
    }
   ],
   "source": [
    "df_merge"
   ]
  },
  {
   "cell_type": "code",
   "execution_count": 21,
   "id": "41dc6823-6012-44d4-8f55-6c716eabf952",
   "metadata": {},
   "outputs": [],
   "source": [
    "# df_merge = df_old.join(df_util[df_util.columns.difference(df_old.columns)]) #testar isso "
   ]
  },
  {
   "cell_type": "code",
   "execution_count": 22,
   "id": "40713eea-75b5-401f-b5ef-29bd6a5952e5",
   "metadata": {},
   "outputs": [
    {
     "data": {
      "text/plain": [
       "318"
      ]
     },
     "execution_count": 22,
     "metadata": {},
     "output_type": "execute_result"
    }
   ],
   "source": [
    "len(df_merge.columns)"
   ]
  },
  {
   "cell_type": "code",
   "execution_count": 23,
   "id": "02f4ea9e-8e43-470b-b55c-a0e6b1a8d4e5",
   "metadata": {},
   "outputs": [
    {
     "data": {
      "text/plain": [
       "['ABRIL/2021',\n",
       " 'MAIO/2021',\n",
       " 'JUNHO/2021',\n",
       " 'JULHO/2021',\n",
       " 'AGOSTO/2021',\n",
       " 'SETEMBRO/2021',\n",
       " 'OUTUBRO/2021',\n",
       " 'NOVEMBRO/2021',\n",
       " 'DEZEMBRO/2021',\n",
       " 'JANEIRO/2022',\n",
       " 'FEVEREIRO/2022',\n",
       " 'MARCO/2022',\n",
       " 'ABRIL/2022',\n",
       " 'MAIO/2022',\n",
       " 'JUNHO/2022']"
      ]
     },
     "execution_count": 23,
     "metadata": {},
     "output_type": "execute_result"
    }
   ],
   "source": [
    "list(df_merge.columns[-15::])"
   ]
  },
  {
   "cell_type": "code",
   "execution_count": 24,
   "id": "bbdf6f99-cb00-4fdc-a17a-8622d3d0af56",
   "metadata": {},
   "outputs": [],
   "source": [
    "df_merge.to_csv('arrecadacao_sp.csv')"
   ]
  },
  {
   "cell_type": "code",
   "execution_count": 25,
   "id": "212af2f0-755d-4f17-b76b-75916c63e67e",
   "metadata": {},
   "outputs": [],
   "source": [
    "# df_old.to_csv('arrecadacao_sp.csv')"
   ]
  },
  {
   "cell_type": "code",
   "execution_count": 26,
   "id": "e07d8f4a-fac0-44b9-bdc0-9137aa72a4a3",
   "metadata": {},
   "outputs": [
    {
     "data": {
      "text/html": [
       "<div>\n",
       "<style scoped>\n",
       "    .dataframe tbody tr th:only-of-type {\n",
       "        vertical-align: middle;\n",
       "    }\n",
       "\n",
       "    .dataframe tbody tr th {\n",
       "        vertical-align: top;\n",
       "    }\n",
       "\n",
       "    .dataframe thead th {\n",
       "        text-align: right;\n",
       "    }\n",
       "</style>\n",
       "<table border=\"1\" class=\"dataframe\">\n",
       "  <thead>\n",
       "    <tr style=\"text-align: right;\">\n",
       "      <th></th>\n",
       "      <th>JANEIRO/1996</th>\n",
       "      <th>FEVEREIRO/1996</th>\n",
       "      <th>MARCO/1996</th>\n",
       "      <th>ABRIL/1996</th>\n",
       "      <th>MAIO/1996</th>\n",
       "      <th>JUNHO/1996</th>\n",
       "      <th>JULHO/1996</th>\n",
       "      <th>AGOSTO/1996</th>\n",
       "      <th>SETEMBRO/1996</th>\n",
       "      <th>OUTUBRO/1996</th>\n",
       "      <th>...</th>\n",
       "      <th>SETEMBRO/2021</th>\n",
       "      <th>OUTUBRO/2021</th>\n",
       "      <th>NOVEMBRO/2021</th>\n",
       "      <th>DEZEMBRO/2021</th>\n",
       "      <th>JANEIRO/2022</th>\n",
       "      <th>FEVEREIRO/2022</th>\n",
       "      <th>MARCO/2022</th>\n",
       "      <th>ABRIL/2022</th>\n",
       "      <th>MAIO/2022</th>\n",
       "      <th>JUNHO/2022</th>\n",
       "    </tr>\n",
       "  </thead>\n",
       "  <tbody>\n",
       "    <tr>\n",
       "      <th>Total</th>\n",
       "      <td>2.676783e+09</td>\n",
       "      <td>2.097057e+09</td>\n",
       "      <td>2.620139e+09</td>\n",
       "      <td>2.146277e+09</td>\n",
       "      <td>2.300029e+09</td>\n",
       "      <td>3.149323e+09</td>\n",
       "      <td>2.387304e+09</td>\n",
       "      <td>2.364166e+09</td>\n",
       "      <td>2.525978e+09</td>\n",
       "      <td>5.409976e+09</td>\n",
       "      <td>...</td>\n",
       "      <td>2.448522e+10</td>\n",
       "      <td>2.491945e+10</td>\n",
       "      <td>2.600893e+10</td>\n",
       "      <td>3.689361e+10</td>\n",
       "      <td>3.270913e+10</td>\n",
       "      <td>2.513137e+10</td>\n",
       "      <td>2.962801e+10</td>\n",
       "      <td>2.810895e+10</td>\n",
       "      <td>1.020417e+10</td>\n",
       "      <td>1.527536e+09</td>\n",
       "    </tr>\n",
       "    <tr>\n",
       "      <th>111 - IMPOSTOS</th>\n",
       "      <td>2.398401e+09</td>\n",
       "      <td>1.886430e+09</td>\n",
       "      <td>1.750849e+09</td>\n",
       "      <td>1.800437e+09</td>\n",
       "      <td>1.832943e+09</td>\n",
       "      <td>1.809743e+09</td>\n",
       "      <td>1.867412e+09</td>\n",
       "      <td>1.862525e+09</td>\n",
       "      <td>1.867724e+09</td>\n",
       "      <td>1.893930e+09</td>\n",
       "      <td>...</td>\n",
       "      <td>1.811229e+10</td>\n",
       "      <td>1.826821e+10</td>\n",
       "      <td>1.916221e+10</td>\n",
       "      <td>2.174962e+10</td>\n",
       "      <td>2.568319e+10</td>\n",
       "      <td>1.815344e+10</td>\n",
       "      <td>2.153619e+10</td>\n",
       "      <td>2.008927e+10</td>\n",
       "      <td>6.961760e+09</td>\n",
       "      <td>8.409368e+08</td>\n",
       "    </tr>\n",
       "    <tr>\n",
       "      <th>112 - TAXAS</th>\n",
       "      <td>4.899111e+07</td>\n",
       "      <td>4.847498e+07</td>\n",
       "      <td>5.974057e+07</td>\n",
       "      <td>5.757628e+07</td>\n",
       "      <td>6.542510e+07</td>\n",
       "      <td>5.578818e+07</td>\n",
       "      <td>7.082892e+07</td>\n",
       "      <td>6.740560e+07</td>\n",
       "      <td>6.889266e+07</td>\n",
       "      <td>7.156029e+07</td>\n",
       "      <td>...</td>\n",
       "      <td>7.578547e+08</td>\n",
       "      <td>7.108079e+08</td>\n",
       "      <td>7.794816e+08</td>\n",
       "      <td>7.877269e+08</td>\n",
       "      <td>9.680807e+08</td>\n",
       "      <td>7.254099e+08</td>\n",
       "      <td>7.862396e+08</td>\n",
       "      <td>6.562412e+08</td>\n",
       "      <td>3.387373e+08</td>\n",
       "      <td>3.486471e+07</td>\n",
       "    </tr>\n",
       "    <tr>\n",
       "      <th>12 - CONTRIBUICOES</th>\n",
       "      <td>NaN</td>\n",
       "      <td>NaN</td>\n",
       "      <td>NaN</td>\n",
       "      <td>NaN</td>\n",
       "      <td>NaN</td>\n",
       "      <td>NaN</td>\n",
       "      <td>NaN</td>\n",
       "      <td>1.017842e+08</td>\n",
       "      <td>1.218597e+07</td>\n",
       "      <td>2.070729e+07</td>\n",
       "      <td>...</td>\n",
       "      <td>6.895829e+08</td>\n",
       "      <td>6.948514e+08</td>\n",
       "      <td>7.388965e+08</td>\n",
       "      <td>9.855104e+08</td>\n",
       "      <td>6.964790e+08</td>\n",
       "      <td>6.687469e+08</td>\n",
       "      <td>7.600816e+08</td>\n",
       "      <td>8.458953e+08</td>\n",
       "      <td>1.229401e+07</td>\n",
       "      <td>3.509408e+06</td>\n",
       "    </tr>\n",
       "  </tbody>\n",
       "</table>\n",
       "<p>4 rows × 318 columns</p>\n",
       "</div>"
      ],
      "text/plain": [
       "                    JANEIRO/1996  FEVEREIRO/1996    MARCO/1996    ABRIL/1996  \\\n",
       "Total               2.676783e+09    2.097057e+09  2.620139e+09  2.146277e+09   \n",
       "111 - IMPOSTOS      2.398401e+09    1.886430e+09  1.750849e+09  1.800437e+09   \n",
       "112 - TAXAS         4.899111e+07    4.847498e+07  5.974057e+07  5.757628e+07   \n",
       "12 - CONTRIBUICOES           NaN             NaN           NaN           NaN   \n",
       "\n",
       "                       MAIO/1996    JUNHO/1996    JULHO/1996   AGOSTO/1996  \\\n",
       "Total               2.300029e+09  3.149323e+09  2.387304e+09  2.364166e+09   \n",
       "111 - IMPOSTOS      1.832943e+09  1.809743e+09  1.867412e+09  1.862525e+09   \n",
       "112 - TAXAS         6.542510e+07  5.578818e+07  7.082892e+07  6.740560e+07   \n",
       "12 - CONTRIBUICOES           NaN           NaN           NaN  1.017842e+08   \n",
       "\n",
       "                    SETEMBRO/1996  OUTUBRO/1996  ...  SETEMBRO/2021  \\\n",
       "Total                2.525978e+09  5.409976e+09  ...   2.448522e+10   \n",
       "111 - IMPOSTOS       1.867724e+09  1.893930e+09  ...   1.811229e+10   \n",
       "112 - TAXAS          6.889266e+07  7.156029e+07  ...   7.578547e+08   \n",
       "12 - CONTRIBUICOES   1.218597e+07  2.070729e+07  ...   6.895829e+08   \n",
       "\n",
       "                    OUTUBRO/2021  NOVEMBRO/2021  DEZEMBRO/2021  JANEIRO/2022  \\\n",
       "Total               2.491945e+10   2.600893e+10   3.689361e+10  3.270913e+10   \n",
       "111 - IMPOSTOS      1.826821e+10   1.916221e+10   2.174962e+10  2.568319e+10   \n",
       "112 - TAXAS         7.108079e+08   7.794816e+08   7.877269e+08  9.680807e+08   \n",
       "12 - CONTRIBUICOES  6.948514e+08   7.388965e+08   9.855104e+08  6.964790e+08   \n",
       "\n",
       "                    FEVEREIRO/2022    MARCO/2022    ABRIL/2022     MAIO/2022  \\\n",
       "Total                 2.513137e+10  2.962801e+10  2.810895e+10  1.020417e+10   \n",
       "111 - IMPOSTOS        1.815344e+10  2.153619e+10  2.008927e+10  6.961760e+09   \n",
       "112 - TAXAS           7.254099e+08  7.862396e+08  6.562412e+08  3.387373e+08   \n",
       "12 - CONTRIBUICOES    6.687469e+08  7.600816e+08  8.458953e+08  1.229401e+07   \n",
       "\n",
       "                      JUNHO/2022  \n",
       "Total               1.527536e+09  \n",
       "111 - IMPOSTOS      8.409368e+08  \n",
       "112 - TAXAS         3.486471e+07  \n",
       "12 - CONTRIBUICOES  3.509408e+06  \n",
       "\n",
       "[4 rows x 318 columns]"
      ]
     },
     "execution_count": 26,
     "metadata": {},
     "output_type": "execute_result"
    }
   ],
   "source": [
    "df_merge"
   ]
  },
  {
   "cell_type": "markdown",
   "id": "b767f189-11c4-4ebc-892c-826e28632e68",
   "metadata": {},
   "source": [
    "## Análise dos dados"
   ]
  },
  {
   "cell_type": "code",
   "execution_count": 27,
   "id": "5f17e6aa-5471-4ae0-ac74-38fbdcc5f56d",
   "metadata": {},
   "outputs": [],
   "source": [
    "import matplotlib.pyplot as plt\n",
    "plt.style.use(\"fivethirtyeight\")"
   ]
  },
  {
   "cell_type": "code",
   "execution_count": 28,
   "id": "88b4e1b2-b671-4e62-9822-1032078b4d25",
   "metadata": {},
   "outputs": [],
   "source": [
    "df_plot = df_merge.transpose()"
   ]
  },
  {
   "cell_type": "code",
   "execution_count": 29,
   "id": "321be9fe-dd9f-41af-878e-ad2d6cb4255c",
   "metadata": {},
   "outputs": [
    {
     "data": {
      "text/html": [
       "<div>\n",
       "<style scoped>\n",
       "    .dataframe tbody tr th:only-of-type {\n",
       "        vertical-align: middle;\n",
       "    }\n",
       "\n",
       "    .dataframe tbody tr th {\n",
       "        vertical-align: top;\n",
       "    }\n",
       "\n",
       "    .dataframe thead th {\n",
       "        text-align: right;\n",
       "    }\n",
       "</style>\n",
       "<table border=\"1\" class=\"dataframe\">\n",
       "  <thead>\n",
       "    <tr style=\"text-align: right;\">\n",
       "      <th></th>\n",
       "      <th>Total</th>\n",
       "      <th>111 - IMPOSTOS</th>\n",
       "      <th>112 - TAXAS</th>\n",
       "      <th>12 - CONTRIBUICOES</th>\n",
       "    </tr>\n",
       "  </thead>\n",
       "  <tbody>\n",
       "    <tr>\n",
       "      <th>JANEIRO/1996</th>\n",
       "      <td>2.676783e+09</td>\n",
       "      <td>2.398401e+09</td>\n",
       "      <td>48991106.21</td>\n",
       "      <td>NaN</td>\n",
       "    </tr>\n",
       "    <tr>\n",
       "      <th>FEVEREIRO/1996</th>\n",
       "      <td>2.097057e+09</td>\n",
       "      <td>1.886430e+09</td>\n",
       "      <td>48474984.24</td>\n",
       "      <td>NaN</td>\n",
       "    </tr>\n",
       "    <tr>\n",
       "      <th>MARCO/1996</th>\n",
       "      <td>2.620139e+09</td>\n",
       "      <td>1.750849e+09</td>\n",
       "      <td>59740572.45</td>\n",
       "      <td>NaN</td>\n",
       "    </tr>\n",
       "    <tr>\n",
       "      <th>ABRIL/1996</th>\n",
       "      <td>2.146277e+09</td>\n",
       "      <td>1.800437e+09</td>\n",
       "      <td>57576276.74</td>\n",
       "      <td>NaN</td>\n",
       "    </tr>\n",
       "    <tr>\n",
       "      <th>MAIO/1996</th>\n",
       "      <td>2.300029e+09</td>\n",
       "      <td>1.832943e+09</td>\n",
       "      <td>65425099.98</td>\n",
       "      <td>NaN</td>\n",
       "    </tr>\n",
       "  </tbody>\n",
       "</table>\n",
       "</div>"
      ],
      "text/plain": [
       "                       Total  111 - IMPOSTOS  112 - TAXAS  12 - CONTRIBUICOES\n",
       "JANEIRO/1996    2.676783e+09    2.398401e+09  48991106.21                 NaN\n",
       "FEVEREIRO/1996  2.097057e+09    1.886430e+09  48474984.24                 NaN\n",
       "MARCO/1996      2.620139e+09    1.750849e+09  59740572.45                 NaN\n",
       "ABRIL/1996      2.146277e+09    1.800437e+09  57576276.74                 NaN\n",
       "MAIO/1996       2.300029e+09    1.832943e+09  65425099.98                 NaN"
      ]
     },
     "execution_count": 29,
     "metadata": {},
     "output_type": "execute_result"
    }
   ],
   "source": [
    "df_plot.head(5)"
   ]
  },
  {
   "cell_type": "code",
   "execution_count": 34,
   "id": "0b8e53c7-3abc-42fc-83b1-4afe50933f0a",
   "metadata": {
    "tags": []
   },
   "outputs": [
    {
     "data": {
      "text/plain": [
       "<matplotlib.legend.Legend at 0x17cc94287f0>"
      ]
     },
     "execution_count": 34,
     "metadata": {},
     "output_type": "execute_result"
    },
    {
     "data": {
      "image/png": "[encoded data removed]",
      "text/plain": [
       "<Figure size 1080x432 with 1 Axes>"
      ]
     },
     "metadata": {
      "needs_background": "light"
     },
     "output_type": "display_data"
    }
   ],
   "source": [
    "plt.figure(figsize=(15, 6))\n",
    "plt.plot(df_plot.index, df_plot['Total']/1e9, label='Total')\n",
    "plt.plot(df_plot.index, df_plot['111 - IMPOSTOS']/1e9, label='Impostos')\n",
    "plt.plot(df_plot.index, df_plot['112 - TAXAS']/1e9, label='Taxas')\n",
    "plt.plot(df_plot.index, df_plot['12 - CONTRIBUICOES']/1e9, label='Contribuições')\n",
    "plt.xticks(df_plot.index[0::15])\n",
    "plt.gcf().autofmt_xdate()\n",
    "plt.ylabel(\"Valor em bilhões de reais\")\n",
    "plt.title(\"Arrecadação Mensal Estado de São Paulo\")\n",
    "plt.legend(prop={'size': 10})"
   ]
  },
  {
   "cell_type": "markdown",
   "id": "82143490-6bdf-440b-9f4c-d44fb63958de",
   "metadata": {},
   "source": [
    "**Observações**: \n",
    "\n",
    "1 - O valor arredado em impostos é o principal determinante na arrecadação do estado.\n",
    "\n",
    "2 - A arredação possui um comportamento periódico\n"
   ]
  },
  {
   "cell_type": "code",
   "execution_count": 35,
   "id": "aa6186a2-911c-4837-8698-1c1606986d5a",
   "metadata": {},
   "outputs": [],
   "source": [
    "df_plot['SMA-12'] = df_plot['111 - IMPOSTOS'].rolling(12).mean()"
   ]
  },
  {
   "cell_type": "code",
   "execution_count": 36,
   "id": "059ab296-3fbd-4d52-9292-3c8bcc9ceb67",
   "metadata": {},
   "outputs": [
    {
     "data": {
      "text/plain": [
       "<matplotlib.legend.Legend at 0x17cc9b6f460>"
      ]
     },
     "execution_count": 36,
     "metadata": {},
     "output_type": "execute_result"
    },
    {
     "data": {
      "image/png": "[encoded data removed]",
      "text/plain": [
       "<Figure size 1080x432 with 1 Axes>"
      ]
     },
     "metadata": {
      "needs_background": "light"
     },
     "output_type": "display_data"
    }
   ],
   "source": [
    "plt.figure(figsize=(15, 6))\n",
    "plt.plot(df_plot.index, df_plot['111 - IMPOSTOS']/1e9, label='Impostos')\n",
    "plt.plot(df_plot.index, df_plot['SMA-12']/1e9, label='Média móvel 12 períodos')\n",
    "plt.xticks(df_plot.index[0::15])\n",
    "plt.gcf().autofmt_xdate()\n",
    "plt.ylabel(\"Valor em bilhões de reais\")\n",
    "plt.title(\"Arrecadação Impostos Estado de São Paulo\")\n",
    "plt.legend(prop={'size': 10})"
   ]
  },
  {
   "cell_type": "code",
   "execution_count": null,
   "id": "3af4af14-a412-4a95-8e9a-6a3db1aaa26a",
   "metadata": {},
   "outputs": [],
   "source": []
  }
 ],
 "metadata": {
  "kernelspec": {
   "display_name": "Python 3 (ipykernel)",
   "language": "python",
   "name": "python3"
  },
  "language_info": {
   "codemirror_mode": {
    "name": "ipython",
    "version": 3
   },
   "file_extension": ".py",
   "mimetype": "text/x-python",
   "name": "python",
   "nbconvert_exporter": "python",
   "pygments_lexer": "ipython3",
   "version": "3.9.12"
  }
 },
 "nbformat": 4,
 "nbformat_minor": 5
}
